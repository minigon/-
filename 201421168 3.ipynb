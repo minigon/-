{
 "cells": [
  {
   "cell_type": "code",
   "execution_count": 2,
   "metadata": {},
   "outputs": [
    {
     "data": {
      "text/plain": [
       "[<matplotlib.lines.Line2D at 0x7403860>]"
      ]
     },
     "execution_count": 2,
     "metadata": {},
     "output_type": "execute_result"
    },
    {
     "data": {
      "image/png": "[encoded data removed]",
      "text/plain": [
       "<matplotlib.figure.Figure at 0x4e210f0>"
      ]
     },
     "metadata": {},
     "output_type": "display_data"
    }
   ],
   "source": [
    "%matplotlib inline\n",
    "from numpy import *\n",
    "from pylab import *\n",
    "from random import *\n",
    "N=100\n",
    "X=zeros((2,100))\n",
    "y=zeros(N)\n",
    "for i in range(N//2):\n",
    "    x1=50*rand();y[i]=1\n",
    "    x2=50*rand()\n",
    "    x3=-50*rand();y[i+50]=-1\n",
    "    x4=-50*rand()\n",
    "    X[:,i]=(x1,x2)\n",
    "    X[:,i+50]=(x3,x4)\n",
    "plot(X[0,:50],X[1,:50],'or')\n",
    "plot(X[0,50:100],X[1,50:100],'ob')"
   ]
  },
  {
   "cell_type": "code",
   "execution_count": 3,
   "metadata": {},
   "outputs": [],
   "source": [
    "for i in range(50):\n",
    "    g1=zeros((2,100))\n",
    "    g2=zeros((2,100))\n",
    "    w1_1=zeros((100,1))\n",
    "    w1_2=zeros((100,1))\n",
    "    w2_1=zeros((100,1))\n",
    "    w2_2=zeros((100,1))\n",
    "    g1[0,i]=X[0,i]*w1_1[i]\n",
    "    g1[1,i]=X[1,i]*w1_2[i]\n",
    "    g2[0,i]=X[0,i]*w2_1[i]\n",
    "    g2[1,i]=X[1,i]+w2_2[i]"
   ]
  },
  {
   "cell_type": "code",
   "execution_count": null,
   "metadata": {
    "collapsed": true
   },
   "outputs": [],
   "source": []
  },
  {
   "cell_type": "code",
   "execution_count": null,
   "metadata": {
    "collapsed": true
   },
   "outputs": [],
   "source": []
  }
 ],
 "metadata": {
  "kernelspec": {
   "display_name": "Python 3",
   "language": "python",
   "name": "python3"
  },
  "language_info": {
   "codemirror_mode": {
    "name": "ipython",
    "version": 3
   },
   "file_extension": ".py",
   "mimetype": "text/x-python",
   "name": "python",
   "nbconvert_exporter": "python",
   "pygments_lexer": "ipython3",
   "version": "3.7.3"
  }
 },
 "nbformat": 4,
 "nbformat_minor": 1
}
